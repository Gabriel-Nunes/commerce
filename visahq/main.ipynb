{
 "cells": [
  {
   "cell_type": "code",
   "execution_count": 1,
   "metadata": {},
   "outputs": [],
   "source": [
    "import requests\n",
    "import json\n",
    "from bs4 import BeautifulSoup\n",
    "\n",
    "BASE_URL = 'https://www.visahq.com/'\n",
    "res = requests.get('https://www.visahq.com/afghanistan/')\n",
    "page = BeautifulSoup(res.text, 'html')\n",
    "select_country = page.find('select', {'id': 'citizenship'})\n",
    "countries = [c.text for c in select_country.find_all('option')]"
   ]
  },
  {
   "cell_type": "code",
   "execution_count": 3,
   "metadata": {},
   "outputs": [
    {
     "name": "stdout",
     "output_type": "stream",
     "text": [
      "Afghanistan\n",
      "Zimbabwe\n",
      "230\n"
     ]
    }
   ],
   "source": [
    "print(countries[0])\n",
    "print(countries[-1])\n",
    "print(len(countries))"
   ]
  },
  {
   "cell_type": "code",
   "execution_count": 12,
   "metadata": {},
   "outputs": [],
   "source": [
    "visa_data_elem = page.find('div', attrs={'class': 'init_params_landing no_display'}).get('data-visa_validity_preload_cache')"
   ]
  },
  {
   "cell_type": "code",
   "execution_count": 13,
   "metadata": {},
   "outputs": [],
   "source": [
    "import json\n",
    "visa_data = json.loads(visa_data_elem)"
   ]
  },
  {
   "cell_type": "code",
   "execution_count": 17,
   "metadata": {},
   "outputs": [
    {
     "data": {
      "text/plain": [
       "{'id': 83,\n",
       " 'label': 'Tourist visa',\n",
       " 'description': 'Up to 90 days',\n",
       " 'isRequired': 1,\n",
       " 'isEvisa': 0,\n",
       " 'isAvailable': 1,\n",
       " 'type': 'tourist',\n",
       " 'cache_class': 'content_en_US_AF_US_525-1_83'}"
      ]
     },
     "execution_count": 17,
     "metadata": {},
     "output_type": "execute_result"
    }
   ],
   "source": [
    "visa_data[0]"
   ]
  },
  {
   "cell_type": "code",
   "execution_count": 24,
   "metadata": {},
   "outputs": [],
   "source": [
    "visa_price_elem = page.find('div', attrs={'class': 'init_params_landing no_display'}).get('data-visa_price_cache')"
   ]
  },
  {
   "cell_type": "code",
   "execution_count": 25,
   "metadata": {},
   "outputs": [],
   "source": [
    "visa_price = json.loads(visa_price_elem)"
   ]
  },
  {
   "cell_type": "code",
   "execution_count": 38,
   "metadata": {},
   "outputs": [
    {
     "data": {
      "text/plain": [
       "[{'vi': 83, 'ji': 525, 'pr': 259, 'vp': 90},\n",
       " {'vi': 83, 'ji': 526, 'pr': 259, 'vp': 90},\n",
       " {'vi': 83, 'ji': 1, 'pr': 259, 'vp': 90}]"
      ]
     },
     "execution_count": 38,
     "metadata": {},
     "output_type": "execute_result"
    }
   ],
   "source": [
    "[p for p in visa_price if p['vi'] == 83]"
   ]
  },
  {
   "cell_type": "code",
   "execution_count": 39,
   "metadata": {},
   "outputs": [
    {
     "data": {
      "text/plain": [
       "[{'id': 83,\n",
       "  'label': 'Tourist visa',\n",
       "  'description': 'Up to 90 days',\n",
       "  'isRequired': 1,\n",
       "  'isEvisa': 0,\n",
       "  'isAvailable': 1,\n",
       "  'type': 'tourist',\n",
       "  'cache_class': 'content_en_US_AF_US_525-1_83'},\n",
       " {'id': 20,\n",
       "  'label': 'Business visa',\n",
       "  'description': 'Up to 90 days',\n",
       "  'isRequired': 1,\n",
       "  'isEvisa': 0,\n",
       "  'isAvailable': 1,\n",
       "  'type': 'business',\n",
       "  'cache_class': 'content_en_US_AF_US_525-1_20-117'},\n",
       " {'id': 20,\n",
       "  'label': 'Business visa',\n",
       "  'description': 'Up to 90 days',\n",
       "  'isRequired': 1,\n",
       "  'isEvisa': 0,\n",
       "  'isAvailable': 1,\n",
       "  'type': 'business',\n",
       "  'cache_class': 'content_en_US_AF_US_1-1_20-117'},\n",
       " {'id': 20,\n",
       "  'label': 'Business visa',\n",
       "  'description': 'Up to 90 days',\n",
       "  'isRequired': 1,\n",
       "  'isEvisa': 0,\n",
       "  'isAvailable': 1,\n",
       "  'type': 'business',\n",
       "  'cache_class': 'content_en_US_AF_US_526-1_20-117'},\n",
       " {'id': 117,\n",
       "  'label': 'Business visa',\n",
       "  'description': 'Up to 1 year',\n",
       "  'isRequired': 1,\n",
       "  'isEvisa': 0,\n",
       "  'isAvailable': 1,\n",
       "  'type': 'business',\n",
       "  'cache_class': 'content_en_US_AF_US_526-1_20-117'},\n",
       " {'id': 117,\n",
       "  'label': 'Business visa',\n",
       "  'description': 'Up to 1 year',\n",
       "  'isRequired': 1,\n",
       "  'isEvisa': 0,\n",
       "  'isAvailable': 0,\n",
       "  'type': 'business',\n",
       "  'cache_class': 'content_en_US_AF_US_525-1_20-117'},\n",
       " {'id': 117,\n",
       "  'label': 'Business visa',\n",
       "  'description': 'Up to 1 year',\n",
       "  'isRequired': 1,\n",
       "  'isEvisa': 0,\n",
       "  'isAvailable': 0,\n",
       "  'type': 'business',\n",
       "  'cache_class': 'content_en_US_AF_US_1-1_20-117'},\n",
       " {'id': 553,\n",
       "  'label': 'Government contractor visa',\n",
       "  'description': 'Up to 90 days',\n",
       "  'isRequired': 1,\n",
       "  'isEvisa': 0,\n",
       "  'isAvailable': 1,\n",
       "  'type': 'misc',\n",
       "  'cache_class': 'content_en_US_AF_US_526-1_553-555'},\n",
       " {'id': 555,\n",
       "  'label': 'Government contractor visa',\n",
       "  'description': 'Up to 1 year',\n",
       "  'isRequired': 1,\n",
       "  'isEvisa': 0,\n",
       "  'isAvailable': 1,\n",
       "  'type': 'misc',\n",
       "  'cache_class': 'content_en_US_AF_US_525-1_553-555'},\n",
       " {'id': 555,\n",
       "  'label': 'Government contractor visa',\n",
       "  'description': 'Up to 1 year',\n",
       "  'isRequired': 1,\n",
       "  'isEvisa': 0,\n",
       "  'isAvailable': 1,\n",
       "  'type': 'misc',\n",
       "  'cache_class': 'content_en_US_AF_US_1-1_553-555'},\n",
       " {'id': 553,\n",
       "  'label': 'Government contractor visa',\n",
       "  'description': 'Up to 90 days',\n",
       "  'isRequired': 1,\n",
       "  'isEvisa': 0,\n",
       "  'isAvailable': 0,\n",
       "  'type': 'misc',\n",
       "  'cache_class': 'content_en_US_AF_US_525-1_553-555'},\n",
       " {'id': 553,\n",
       "  'label': 'Government contractor visa',\n",
       "  'description': 'Up to 90 days',\n",
       "  'isRequired': 1,\n",
       "  'isEvisa': 0,\n",
       "  'isAvailable': 0,\n",
       "  'type': 'misc',\n",
       "  'cache_class': 'content_en_US_AF_US_1-1_553-555'},\n",
       " {'id': 555,\n",
       "  'label': 'Government contractor visa',\n",
       "  'description': 'Up to 1 year',\n",
       "  'isRequired': 1,\n",
       "  'isEvisa': 0,\n",
       "  'isAvailable': 0,\n",
       "  'type': 'misc',\n",
       "  'cache_class': 'content_en_US_AF_US_526-1_553-555'},\n",
       " {'id': 185,\n",
       "  'label': 'Official visa',\n",
       "  'description': 'Up to 90 days',\n",
       "  'isRequired': 1,\n",
       "  'isEvisa': 0,\n",
       "  'isAvailable': 1,\n",
       "  'type': 'misc',\n",
       "  'cache_class': 'content_en_US_AF_US_525-1_185-194'},\n",
       " {'id': 185,\n",
       "  'label': 'Official visa',\n",
       "  'description': 'Up to 90 days',\n",
       "  'isRequired': 1,\n",
       "  'isEvisa': 0,\n",
       "  'isAvailable': 1,\n",
       "  'type': 'misc',\n",
       "  'cache_class': 'content_en_US_AF_US_1-1_185-194'},\n",
       " {'id': 194,\n",
       "  'label': 'Official visa',\n",
       "  'description': 'Up to 180 days',\n",
       "  'isRequired': 1,\n",
       "  'isEvisa': 0,\n",
       "  'isAvailable': 1,\n",
       "  'type': 'official',\n",
       "  'cache_class': 'content_en_US_AF_US_525-1_185-194'},\n",
       " {'id': 194,\n",
       "  'label': 'Official visa',\n",
       "  'description': 'Up to 180 days',\n",
       "  'isRequired': 1,\n",
       "  'isEvisa': 0,\n",
       "  'isAvailable': 1,\n",
       "  'type': 'official',\n",
       "  'cache_class': 'content_en_US_AF_US_1-1_185-194'},\n",
       " {'id': 185,\n",
       "  'label': 'Official visa',\n",
       "  'description': 'Up to 90 days',\n",
       "  'isRequired': 1,\n",
       "  'isEvisa': 0,\n",
       "  'isAvailable': 0,\n",
       "  'type': 'misc',\n",
       "  'cache_class': 'content_en_US_AF_US_526-1_185-194'},\n",
       " {'id': 194,\n",
       "  'label': 'Official visa',\n",
       "  'description': 'Up to 180 days',\n",
       "  'isRequired': 1,\n",
       "  'isEvisa': 0,\n",
       "  'isAvailable': 0,\n",
       "  'type': 'official',\n",
       "  'cache_class': 'content_en_US_AF_US_526-1_185-194'},\n",
       " {'id': 139,\n",
       "  'label': 'Work visa',\n",
       "  'description': 'Up to 90 days',\n",
       "  'isRequired': 1,\n",
       "  'isEvisa': 0,\n",
       "  'isAvailable': 1,\n",
       "  'type': 'misc',\n",
       "  'cache_class': 'content_en_US_AF_US_525-1_139-220'},\n",
       " {'id': 139,\n",
       "  'label': 'Work visa',\n",
       "  'description': 'Up to 90 days',\n",
       "  'isRequired': 1,\n",
       "  'isEvisa': 0,\n",
       "  'isAvailable': 1,\n",
       "  'type': 'misc',\n",
       "  'cache_class': 'content_en_US_AF_US_1-1_139-220'},\n",
       " {'id': 139,\n",
       "  'label': 'Work visa',\n",
       "  'description': 'Up to 90 days',\n",
       "  'isRequired': 1,\n",
       "  'isEvisa': 0,\n",
       "  'isAvailable': 1,\n",
       "  'type': 'misc',\n",
       "  'cache_class': 'content_en_US_AF_US_526-1_139-220'},\n",
       " {'id': 220,\n",
       "  'label': 'Work visa',\n",
       "  'description': 'Up to 1 year',\n",
       "  'isRequired': 1,\n",
       "  'isEvisa': 0,\n",
       "  'isAvailable': 1,\n",
       "  'type': 'work',\n",
       "  'cache_class': 'content_en_US_AF_US_525-1_139-220'},\n",
       " {'id': 220,\n",
       "  'label': 'Work visa',\n",
       "  'description': 'Up to 1 year',\n",
       "  'isRequired': 1,\n",
       "  'isEvisa': 0,\n",
       "  'isAvailable': 1,\n",
       "  'type': 'work',\n",
       "  'cache_class': 'content_en_US_AF_US_1-1_139-220'},\n",
       " {'id': 220,\n",
       "  'label': 'Work visa',\n",
       "  'description': 'Up to 1 year',\n",
       "  'isRequired': 1,\n",
       "  'isEvisa': 0,\n",
       "  'isAvailable': 0,\n",
       "  'type': 'work',\n",
       "  'cache_class': 'content_en_US_AF_US_526-1_139-220'},\n",
       " {'id': 91,\n",
       "  'label': 'Transit visa',\n",
       "  'description': '',\n",
       "  'isRequired': 1,\n",
       "  'isEvisa': 0,\n",
       "  'isAvailable': 0,\n",
       "  'type': 'misc',\n",
       "  'cache_class': 'content_en_US_AF_US_525-1_91'},\n",
       " {'id': 91,\n",
       "  'label': 'Transit visa',\n",
       "  'description': '',\n",
       "  'isRequired': 1,\n",
       "  'isEvisa': 0,\n",
       "  'isAvailable': 0,\n",
       "  'type': 'misc',\n",
       "  'cache_class': 'content_en_US_AF_US_526-1_91'},\n",
       " {'id': 91,\n",
       "  'label': 'Transit visa',\n",
       "  'description': '',\n",
       "  'isRequired': 1,\n",
       "  'isEvisa': 0,\n",
       "  'isAvailable': 0,\n",
       "  'type': 'misc',\n",
       "  'cache_class': 'content_en_US_AF_US_1-1_91'}]"
      ]
     },
     "execution_count": 39,
     "metadata": {},
     "output_type": "execute_result"
    }
   ],
   "source": [
    "visa_data"
   ]
  },
  {
   "cell_type": "code",
   "execution_count": 64,
   "metadata": {},
   "outputs": [],
   "source": [
    "cookies = {\n",
    "    'citizenship_alpha2': 'AF',\n",
    "    'living_in_alpha2': 'US'\n",
    "}\n",
    "res = requests.get('https://www.visahq.com/brazil/', cookies=cookies)"
   ]
  },
  {
   "cell_type": "code",
   "execution_count": 65,
   "metadata": {},
   "outputs": [],
   "source": [
    "page = BeautifulSoup(res.text, 'html')\n",
    "visa_data_elem2 = page.find('div', attrs={'class': 'init_params_landing no_display'}).get('data-visa_validity_preload_cache')\n",
    "visa_data3 = json.loads(visa_data_elem)"
   ]
  },
  {
   "cell_type": "code",
   "execution_count": 52,
   "metadata": {},
   "outputs": [],
   "source": [
    "data_tag = page.find('div', attrs={'class': 'init_params_landing no_display'})"
   ]
  },
  {
   "cell_type": "code",
   "execution_count": 53,
   "metadata": {},
   "outputs": [],
   "source": [
    "data_tag.get('data-meta_description')"
   ]
  },
  {
   "cell_type": "code",
   "execution_count": 68,
   "metadata": {},
   "outputs": [
    {
     "name": "stdout",
     "output_type": "stream",
     "text": [
      "True\n",
      "True\n",
      "True\n",
      "True\n",
      "True\n",
      "True\n",
      "True\n",
      "True\n",
      "True\n",
      "True\n",
      "True\n",
      "True\n",
      "True\n",
      "True\n",
      "True\n",
      "True\n",
      "True\n",
      "True\n",
      "True\n",
      "True\n",
      "True\n",
      "True\n",
      "True\n",
      "True\n",
      "True\n",
      "True\n",
      "True\n",
      "True\n"
     ]
    }
   ],
   "source": [
    "for v in visa_data:\n",
    "    print(v == visa_data3[visa_data.index(v)])"
   ]
  },
  {
   "cell_type": "code",
   "execution_count": 74,
   "metadata": {},
   "outputs": [],
   "source": [
    "headers = {\n",
    "'accept': 'application/json, text/javascript, */*; q=0.01',\n",
    "# 'accept-encoding': 'gzip, deflate, br',\n",
    "'accept-language': 'en-US,en;q=0.9',\n",
    "'cache-control': 'no-cache',\n",
    "'origin': 'https://www.visahq.com',\n",
    "'pragma': 'no-cache',\n",
    "'referer': 'https://www.visahq.com/',\n",
    "'sec-ch-ua': '\"Not?A_Brand\";v=\"8\", \"Chromium\";v=\"108\", \"Google Chrome\";v=\"108\"',\n",
    "'sec-ch-ua-mobile': '?0',\n",
    "'sec-ch-ua-platform': '\"Linux\"',\n",
    "'sec-fetch-dest': 'empty',\n",
    "'sec-fetch-mode': 'cors',\n",
    "'sec-fetch-site': 'cross-site',\n",
    "'user-agent': 'Mozilla/5.0 (X11; Linux x86_64) AppleWebKit/537.36 (KHTML, like Gecko) Chrome/108.0.0.0 Safari/537.36'\n",
    "}\n",
    "residency = 'US'\n",
    "destination = 'BR'\n",
    "citizenship = 'AU'\n",
    "res = requests.get(\n",
    "    f'https://content11p.visahq.org/v0/services/visa-requirements/items?filter=residency::{residency}|destination::{destination}|citizenship::{citizenship}&lang=en',\n",
    "    headers=headers\n",
    ")\n"
   ]
  },
  {
   "cell_type": "code",
   "execution_count": 75,
   "metadata": {},
   "outputs": [
    {
     "data": {
      "text/plain": [
       "'[{\"keys\":{\"citizenship\":\"AU\",\"destination\":\"BR\",\"jurisdiction\":\"1\",\"residency\":\"US\",\"visa_group\":\"139\"},\"entityKeys\":{\"citizenship\":{\"alpha2\":\"AU\",\"alpha3\":\"AUS\",\"numeric\":\"036\",\"label\":\"Australia\"},\"destination\":{\"alpha2\":\"BR\",\"alpha3\":\"BRA\",\"numeric\":\"076\",\"label\":\"Brazil\"},\"jurisdiction\":{\"id\":1,\"residency\":\"US\",\"label\":\"United States of America default jurisdiction\",\"provinces\":[\"WY\",\"WI\",\"WV\",\"WA\",\"VA\",\"VI\",\"VT\",\"UT\",\"TX\",\"TN\",\"SD\",\"SC\",\"RI\",\"PR\",\"PA\",\"PW\",\"OR\",\"OK\",\"OH\",\"MP\",\"ND\",\"NC\",\"NY\",\"NM\",\"NJ\",\"NH\",\"NV\",\"NE\",\"MT\",\"MO\",\"MS\",\"MN\",\"MI\",\"MA\",\"MD\",\"MH\",\"ME\",\"LA\",\"KY\",\"KS\",\"IA\",\"IN\",\"IL\",\"ID\",\"HI\",\"GU\",\"GA\",\"FL\",\"FM\",\"DC\",\"DE\",\"CT\",\"CO\",\"CS\",\"CN\",\"CA\",\"AR\",\"AZ\",\"AK\",\"AL\"]},\"residency\":{\"alpha2\":\"US\",\"alpha3\":\"USA\",\"numeric\":\"840\",\"label\":\"United States of America\"},\"visa_group\":{\"id\":139,\"label\":\"Work visa\",\"description\":\"up to 90 days\"}},\"content\":{\"groups\":[{\"child_groups\":[],\"level\":0,\"name\":\"Requirements\",\"id\":\"1\",\"content_type\":\"visa\"}],\"components\":[{\"value\":\"\\\\u003cstrong\\\\u003eImportant Note:\\\\u003c/strong\\\\u003e Please upload or send us electronically the following documents needed for the generation of your application form: \\\\n\\\\n• Scanned copy of passport\\\\n\\\\n\\\\u003cstrong\\\\u003eDo not mail anything to VisaHQ without the generated application form.\\\\u003c/strong\\\\u003e\\\\n\\\\nOnce application form has been generated, please also note that ALL PAGES of your application require your original signature. Each page of your application must be printed SINGLE-SIDED only. Applications printed/signed double-sided will be rejected.\",\"name\":\"Visa application form\",\"level\":0,\"id\":\"visa_application_form\",\"group_id\":\"1\",\"content_type\":\"visa\",\"component_type\":\"text\"},{\"value\":\"The passport must be valid at least 6 months after the intended date of departure from the territory of the destination country and has at least 2 blank visa pages.\",\"name\":\"Original passport\",\"level\":0,\"id\":\"original_passport\",\"group_id\":\"1\",\"content_type\":\"visa\",\"component_type\":\"text\"},{\"value\":\"All passengers traveling to Brazil MUST complete Health declaration form within the 72 hours prior to the flight. The proof of the filled out form will need to be presented at control points.\\\\nWe fill out this from on behalf of you and will send along with your visa itself.\",\"name\":\"Health declaration E-form (questions to this form are included at the end of visa questionnaire)\",\"level\":0,\"id\":\"covid_health\",\"group_id\":\"1\",\"content_type\":\"visa\",\"component_type\":\"text\"},{\"value\":\"Include a passport style photo, with a white background, taken within the last 6 months. You may also choose to upload a photo to your order for us to print. There is a charge associated with this service.\",\"name\":\"Passport-type photograph\",\"level\":0,\"id\":\"passport_photo_paper\",\"group_id\":\"1\",\"content_type\":\"visa\",\"component_type\":\"text\"},{\"value\":\"A copy of immigration status in the country of residence such as a resident card, work, or study permit. VisaHQ cannot assist US B1/B2 visa holders at this time.\",\"name\":\"Proof of status\",\"level\":0,\"id\":\"proof_status\",\"group_id\":\"1\",\"content_type\":\"visa\",\"component_type\":\"text\"},{\"value\":\"Must be issued within the last 3 months (request may be submitted to an FBI-approved Channeler).\",\"name\":\"Background Check\",\"level\":0,\"id\":\"background_check\",\"group_id\":\"1\",\"content_type\":\"visa\",\"component_type\":\"text\"},{\"value\":\"Must be issued within the last 3 months (request may be submitted to an FBI-approved Channeler) and showing full names of applicant\\'s mother and father (translated into English or Portuguese with the appropriate Certification by Translator.)\",\"name\":\"Birth certificate\",\"level\":0,\"id\":\"birth_certificate\",\"group_id\":\"1\",\"content_type\":\"visa\",\"component_type\":\"text\"}]}},{\"keys\":{\"citizenship\":\"AU\",\"destination\":\"BR\",\"jurisdiction\":\"1\",\"residency\":\"US\",\"visa_group\":\"141\"},\"entityKeys\":{\"citizenship\":{\"alpha2\":\"AU\",\"alpha3\":\"AUS\",\"numeric\":\"036\",\"label\":\"Australia\"},\"destination\":{\"alpha2\":\"BR\",\"alpha3\":\"BRA\",\"numeric\":\"076\",\"label\":\"Brazil\"},\"jurisdiction\":{\"id\":1,\"residency\":\"US\",\"label\":\"United States of America default jurisdiction\",\"provinces\":[\"WY\",\"WI\",\"WV\",\"WA\",\"VA\",\"VI\",\"VT\",\"UT\",\"TX\",\"TN\",\"SD\",\"SC\",\"RI\",\"PR\",\"PA\",\"PW\",\"OR\",\"OK\",\"OH\",\"MP\",\"ND\",\"NC\",\"NY\",\"NM\",\"NJ\",\"NH\",\"NV\",\"NE\",\"MT\",\"MO\",\"MS\",\"MN\",\"MI\",\"MA\",\"MD\",\"MH\",\"ME\",\"LA\",\"KY\",\"KS\",\"IA\",\"IN\",\"IL\",\"ID\",\"HI\",\"GU\",\"GA\",\"FL\",\"FM\",\"DC\",\"DE\",\"CT\",\"CO\",\"CS\",\"CN\",\"CA\",\"AR\",\"AZ\",\"AK\",\"AL\"]},\"residency\":{\"alpha2\":\"US\",\"alpha3\":\"USA\",\"numeric\":\"840\",\"label\":\"United States of America\"},\"visa_group\":{\"id\":141,\"label\":\"Student visa\",\"description\":\"up to 90 days\"}},\"content\":{\"groups\":[{\"child_groups\":[],\"level\":0,\"name\":\"Requirements\",\"id\":\"1\",\"content_type\":\"visa\"}],\"components\":[{\"value\":\"Fully completed and signed application form.\",\"name\":\"Visa application form\",\"level\":0,\"id\":\"visa_application_form\",\"group_id\":\"1\",\"content_type\":\"visa\",\"component_type\":\"text\"},{\"value\":\"The passport must be valid at least 6 months after the intended date of departure from the territory of the destination country and has at least 2 blank visa pages.\",\"name\":\"Original passport\",\"level\":0,\"id\":\"original_passport\",\"group_id\":\"1\",\"content_type\":\"visa\",\"component_type\":\"text\"},{\"value\":\"Include a passport style photo, with a white background, taken within the last 6 months. You may also choose to upload a photo to your order for us to print. There is a charge associated with this service.\",\"name\":\"Passport-type photograph\",\"level\":0,\"id\":\"passport_photo_paper\",\"group_id\":\"1\",\"content_type\":\"visa\",\"component_type\":\"text\"},{\"value\":\"All passengers traveling to Brazil MUST complete Health declaration form within the 72 hours prior to the flight. The proof of the filled out form will need to be presented at control points.\\\\nWe fill out this from on behalf of you and will send along with your visa itself.\",\"name\":\"Health declaration E-form (questions to this form are included at the end of visa questionnaire)\",\"level\":0,\"id\":\"covid_health\",\"group_id\":\"1\",\"content_type\":\"visa\",\"component_type\":\"text\"},{\"value\":\"A notarized copy of immigration status in  the country of residence such as a resident card, work, or study permit. Notarization instructions can be found \\\\u003ca href=\\\\\"https://www.visahq.com/pdf_files/visa_forms/notary.pdf\\\\\" target=\\\\\"_blank\\\\\"\\\\u003ehere\\\\u003c/a\\\\u003e. VisaHQ cannot assist US B1/B2 visa holders at this time.\",\"name\":\"Notarized proof of status\",\"level\":0,\"id\":\"notarized_proof\",\"group_id\":\"1\",\"content_type\":\"visa\",\"component_type\":\"text\"},{\"value\":\"Copy of driver\\'s license, state issued ID, or major utility bill (Water, Gas, Electric, Sewage) for the most recent month, showing the applicant\\'s name and current address.\",\"name\":\"Proof of residency\",\"level\":0,\"id\":\"proof_residency\",\"group_id\":\"1\",\"content_type\":\"visa\",\"component_type\":\"text\"},{\"value\":\"ORIGINAL acceptance letter from the Brazilian college or university indicating the type and duration of studies. Notarization must be done by a Cartório in Brazil. The Brazilian educational institution must be registered with the Ministry of Education in Brazil.\\\\nStudents enrolling in short-term language or technical classes, must also provide a copy of the educational institution\\'s registration with the Cadastro Nacional de Pessoas Juridicas (CNPJ).\\\\nNotarization instructions can be found \\\\u003ca href=\\\\\"https://www.visahq.com/pdf_files/visa_forms/notary.pdf\\\\\" target=\\\\\"_blank\\\\\"\\\\u003ehere\\\\u003c/a\\\\u003e.\",\"name\":\"Enrollment Letter\",\"level\":0,\"id\":\"enrollment_letter\",\"group_id\":\"1\",\"content_type\":\"visa\",\"component_type\":\"text\"},{\"value\":\"Must be issued within the last 3 months (request may be submitted to an FBI-approved Channeler).\",\"name\":\"Background Check\",\"level\":0,\"id\":\"background_check\",\"group_id\":\"1\",\"content_type\":\"visa\",\"component_type\":\"text\"},{\"value\":\"Original of Birth Certificate of children below 18 years ( translated in English).\",\"name\":\"Birth certificate\",\"level\":0,\"id\":\"translated_birth_certificate\",\"group_id\":\"1\",\"content_type\":\"visa\",\"component_type\":\"text\"},{\"value\":\"Proof of adequate funds for the duration of applicant’s stay in Brazil\",\"name\":\"Proof of Sufficient Funds\",\"level\":0,\"id\":\"proof_sufficient_funds\",\"group_id\":\"1\",\"content_type\":\"visa\",\"component_type\":\"text\"}]}},{\"keys\":{\"citizenship\":\"AU\",\"destination\":\"BR\",\"jurisdiction\":\"1\",\"residency\":\"US\",\"visa_group\":\"173\"},\"entityKeys\":{\"citizenship\":{\"alpha2\":\"AU\",\"alpha3\":\"AUS\",\"numeric\":\"036\",\"label\":\"Australia\"},\"destination\":{\"alpha2\":\"BR\",\"alpha3\":\"BRA\",\"numeric\":\"076\",\"label\":\"Brazil\"},\"jurisdiction\":{\"id\":1,\"residency\":\"US\",\"label\":\"United States of America default jurisdiction\",\"provinces\":[\"WY\",\"WI\",\"WV\",\"WA\",\"VA\",\"VI\",\"VT\",\"UT\",\"TX\",\"TN\",\"SD\",\"SC\",\"RI\",\"PR\",\"PA\",\"PW\",\"OR\",\"OK\",\"OH\",\"MP\",\"ND\",\"NC\",\"NY\",\"NM\",\"NJ\",\"NH\",\"NV\",\"NE\",\"MT\",\"MO\",\"MS\",\"MN\",\"MI\",\"MA\",\"MD\",\"MH\",\"ME\",\"LA\",\"KY\",\"KS\",\"IA\",\"IN\",\"IL\",\"ID\",\"HI\",\"GU\",\"GA\",\"FL\",\"FM\",\"DC\",\"DE\",\"CT\",\"CO\",\"CS\",\"CN\",\"CA\",\"AR\",\"AZ\",\"AK\",\"AL\"]},\"residency\":{\"alpha2\":\"US\",\"alpha3\":\"USA\",\"numeric\":\"840\",\"label\":\"United States of America\"},\"visa_group\":{\"id\":173,\"label\":\"Tourist E-visa\",\"description\":\"up to 2 years\"}},\"content\":{\"groups\":[{\"child_groups\":[],\"level\":0,\"name\":\"Requirements\",\"id\":\"1\",\"content_type\":\"visa\"}],\"components\":[{\"value\":\"Copy of a machine-readable passport valid for at least 30 days from the arrival date, preferable beyond the return date.\",\"name\":\"Passport copy\",\"level\":0,\"id\":\"passport_copy\",\"group_id\":\"1\",\"content_type\":\"visa\",\"component_type\":\"text\"},{\"value\":\"Must be uploaded to your applicant profile.\",\"name\":\"Passport-type photograph\",\"level\":0,\"id\":\"passport_photo_evisa\",\"group_id\":\"1\",\"content_type\":\"visa\",\"component_type\":\"text\"}]}},{\"keys\":{\"citizenship\":\"AU\",\"destination\":\"BR\",\"jurisdiction\":\"1\",\"residency\":\"US\",\"visa_group\":\"178\"},\"entityKeys\":{\"citizenship\":{\"alpha2\":\"AU\",\"alpha3\":\"AUS\",\"numeric\":\"036\",\"label\":\"Australia\"},\"destination\":{\"alpha2\":\"BR\",\"alpha3\":\"BRA\",\"numeric\":\"076\",\"label\":\"Brazil\"},\"jurisdiction\":{\"id\":1,\"residency\":\"US\",\"label\":\"United States of America default jurisdiction\",\"provinces\":[\"WY\",\"WI\",\"WV\",\"WA\",\"VA\",\"VI\",\"VT\",\"UT\",\"TX\",\"TN\",\"SD\",\"SC\",\"RI\",\"PR\",\"PA\",\"PW\",\"OR\",\"OK\",\"OH\",\"MP\",\"ND\",\"NC\",\"NY\",\"NM\",\"NJ\",\"NH\",\"NV\",\"NE\",\"MT\",\"MO\",\"MS\",\"MN\",\"MI\",\"MA\",\"MD\",\"MH\",\"ME\",\"LA\",\"KY\",\"KS\",\"IA\",\"IN\",\"IL\",\"ID\",\"HI\",\"GU\",\"GA\",\"FL\",\"FM\",\"DC\",\"DE\",\"CT\",\"CO\",\"CS\",\"CN\",\"CA\",\"AR\",\"AZ\",\"AK\",\"AL\"]},\"residency\":{\"alpha2\":\"US\",\"alpha3\":\"USA\",\"numeric\":\"840\",\"label\":\"United States of America\"},\"visa_group\":{\"id\":178,\"label\":\"Business E-visa\",\"description\":\"up to 2 years\"}},\"content\":{\"groups\":[{\"child_groups\":[],\"level\":0,\"name\":\"Requirements\",\"id\":\"1\",\"content_type\":\"visa\"}],\"components\":[{\"value\":\"Copy of a machine-readable passport valid for at least 30 days from the arrival date, preferable beyond the return date.\",\"name\":\"Passport copy\",\"level\":0,\"id\":\"passport_copy\",\"group_id\":\"1\",\"content_type\":\"visa\",\"component_type\":\"text\"},{\"value\":\"Must be uploaded to your applicant profile.\",\"name\":\"Passport-type photograph\",\"level\":0,\"id\":\"passport_photo_evisa\",\"group_id\":\"1\",\"content_type\":\"visa\",\"component_type\":\"text\"}]}},{\"keys\":{\"citizenship\":\"AU\",\"destination\":\"BR\",\"jurisdiction\":\"1\",\"residency\":\"US\",\"visa_group\":\"447\"},\"entityKeys\":{\"citizenship\":{\"alpha2\":\"AU\",\"alpha3\":\"AUS\",\"numeric\":\"036\",\"label\":\"Australia\"},\"destination\":{\"alpha2\":\"BR\",\"alpha3\":\"BRA\",\"numeric\":\"076\",\"label\":\"Brazil\"},\"jurisdiction\":{\"id\":1,\"residency\":\"US\",\"label\":\"United States of America default jurisdiction\",\"provinces\":[\"WY\",\"WI\",\"WV\",\"WA\",\"VA\",\"VI\",\"VT\",\"UT\",\"TX\",\"TN\",\"SD\",\"SC\",\"RI\",\"PR\",\"PA\",\"PW\",\"OR\",\"OK\",\"OH\",\"MP\",\"ND\",\"NC\",\"NY\",\"NM\",\"NJ\",\"NH\",\"NV\",\"NE\",\"MT\",\"MO\",\"MS\",\"MN\",\"MI\",\"MA\",\"MD\",\"MH\",\"ME\",\"LA\",\"KY\",\"KS\",\"IA\",\"IN\",\"IL\",\"ID\",\"HI\",\"GU\",\"GA\",\"FL\",\"FM\",\"DC\",\"DE\",\"CT\",\"CO\",\"CS\",\"CN\",\"CA\",\"AR\",\"AZ\",\"AK\",\"AL\"]},\"residency\":{\"alpha2\":\"US\",\"alpha3\":\"USA\",\"numeric\":\"840\",\"label\":\"United States of America\"},\"visa_group\":{\"id\":447,\"label\":\"Scientific research visa\",\"description\":\"up to 90 days\"}},\"content\":{\"groups\":[{\"child_groups\":[],\"level\":0,\"name\":\"Requirements\",\"id\":\"1\",\"content_type\":\"visa\"}],\"components\":[{\"value\":\"\\\\u003cstrong\\\\u003eImportant Note:\\\\u003c/strong\\\\u003e Please upload or send us electronically the following documents needed for the generation of your application form: \\\\n\\\\n• Scanned copy of passport\\\\n\\\\n\\\\u003cstrong\\\\u003eDo not mail anything to VisaHQ without the generated application form.\\\\u003c/strong\\\\u003e\\\\n\\\\nOnce application form has been generated, please also note that ALL PAGES of your application require your original signature. Each page of your application must be printed SINGLE-SIDED only. Applications printed/signed double-sided will be rejected.\",\"name\":\"Visa application form\",\"level\":0,\"id\":\"visa_application_form\",\"group_id\":\"1\",\"content_type\":\"visa\",\"component_type\":\"text\"},{\"value\":\"The passport must be valid at least 6 months after the intended date of departure from the territory of the destination country and has at least 2 blank visa pages.\",\"name\":\"Original passport\",\"level\":0,\"id\":\"original_passport\",\"group_id\":\"1\",\"content_type\":\"visa\",\"component_type\":\"text\"},{\"value\":\"Passport style photo, with a white background, taken within the last 6 months. \",\"name\":\"Passport-type photograph\",\"level\":0,\"id\":\"passport_photo_paper\",\"group_id\":\"1\",\"content_type\":\"visa\",\"component_type\":\"text\"},{\"value\":\"A copy of immigration status in the country of residence such as a resident card, work, or study permit. VisaHQ cannot assist US B1/B2 visa holders at this time.\",\"name\":\"Proof of status\",\"level\":0,\"id\":\"proof_status\",\"group_id\":\"1\",\"content_type\":\"visa\",\"component_type\":\"text\"},{\"value\":\"Original document issued by the FBI within the past 60 days containing sufficient info on the applicant (full name, address, date of birth, SSN, ID type, etc.) and showing a non-criminal record.\",\"name\":\"Background Check\",\"level\":0,\"id\":\"background_check\",\"group_id\":\"1\",\"content_type\":\"visa\",\"component_type\":\"text\"},{\"value\":\"A copy of birth certificate or any other official document that shows the applicant\\'s parents’ full names. This same document will be needed later in Brazil at the moment the applicant completes their registration at Brazilian Federal Police Department(required within 30 days of arrival).\",\"name\":\"Birth certificate\",\"level\":0,\"id\":\"birth_certificate\",\"group_id\":\"1\",\"content_type\":\"visa\",\"component_type\":\"text\"},{\"value\":\"Letter from Brazilian academic or research institution, explaining applicant’s research activities in Brazil.\",\"name\":\"Invitation letter\",\"level\":0,\"id\":\"invitation_letter_nigeria\",\"group_id\":\"1\",\"content_type\":\"visa\",\"component_type\":\"text\"},{\"value\":\"Copy of the Diário Oficial da União in which the applicant’s authorization from the Ministério da Ciência, Tecnologia, Inovações e Comunicações(MCTIC) is published.\",\"name\":\"Authorization Letter\",\"level\":0,\"id\":\"authorization_letter_algeria\",\"group_id\":\"1\",\"content_type\":\"visa\",\"component_type\":\"text\"}]}},{\"keys\":{\"citizenship\":\"AU\",\"destination\":\"BR\",\"jurisdiction\":\"1\",\"residency\":\"US\",\"visa_group\":\"448\"},\"entityKeys\":{\"citizenship\":{\"alpha2\":\"AU\",\"alpha3\":\"AUS\",\"numeric\":\"036\",\"label\":\"Australia\"},\"destination\":{\"alpha2\":\"BR\",\"alpha3\":\"BRA\",\"numeric\":\"076\",\"label\":\"Brazil\"},\"jurisdiction\":{\"id\":1,\"residency\":\"US\",\"label\":\"United States of America default jurisdiction\",\"provinces\":[\"WY\",\"WI\",\"WV\",\"WA\",\"VA\",\"VI\",\"VT\",\"UT\",\"TX\",\"TN\",\"SD\",\"SC\",\"RI\",\"PR\",\"PA\",\"PW\",\"OR\",\"OK\",\"OH\",\"MP\",\"ND\",\"NC\",\"NY\",\"NM\",\"NJ\",\"NH\",\"NV\",\"NE\",\"MT\",\"MO\",\"MS\",\"MN\",\"MI\",\"MA\",\"MD\",\"MH\",\"ME\",\"LA\",\"KY\",\"KS\",\"IA\",\"IN\",\"IL\",\"ID\",\"HI\",\"GU\",\"GA\",\"FL\",\"FM\",\"DC\",\"DE\",\"CT\",\"CO\",\"CS\",\"CN\",\"CA\",\"AR\",\"AZ\",\"AK\",\"AL\"]},\"residency\":{\"alpha2\":\"US\",\"alpha3\":\"USA\",\"numeric\":\"840\",\"label\":\"United States of America\"},\"visa_group\":{\"id\":448,\"label\":\"Crew visa\",\"description\":\"up to 10 years\"}},\"content\":{\"groups\":[{\"child_groups\":[],\"level\":0,\"name\":\"Requirements\",\"id\":\"1\",\"content_type\":\"visa\"}],\"components\":[{\"value\":\"\\\\u003cstrong\\\\u003eImportant note:\\\\u003c/strong\\\\u003e Please upload or sent us the required documents/requirements below electronically for the generation of your application form.\\\\n\\\\nPlease also note that ALL PAGES of your application require your original signature. Each page of your application must be printed SINGLE-SIDED only. Applications printed/signed double-sided will be rejected.\",\"name\":\"Visa application form\",\"level\":0,\"id\":\"visa_application_form\",\"group_id\":\"1\",\"content_type\":\"visa\",\"component_type\":\"text\"},{\"value\":\"Upload a clear scan of your passport with at least 6 months of remaining validity. Passport MUST contain at least two blank visa pages in order for the visa to be issued.\",\"name\":\"Original passport\",\"level\":0,\"id\":\"original_passport\",\"group_id\":\"1\",\"content_type\":\"visa\",\"component_type\":\"text\"},{\"value\":\"Include a passport style photo, with a white background, taken within the last 6 months. You may also choose to upload a photo to your order for us to print. There is a charge associated with this service.\",\"name\":\"Passport-type photograph\",\"level\":0,\"id\":\"passport_photo_paper\",\"group_id\":\"1\",\"content_type\":\"visa\",\"component_type\":\"text\"},{\"value\":\"A copy of immigration status in the country of residence such as a resident card, work, or study permit. VisaHQ cannot assist US B1/B2 visa holders at this time.\",\"name\":\"Proof of status\",\"level\":0,\"id\":\"proof_status\",\"group_id\":\"1\",\"content_type\":\"visa\",\"component_type\":\"text\"},{\"value\":\"Copy of driver\\'s license, state issued ID, or major utility bill (Water, Gas, Electric, Sewage) for the most recent month, showing the applicant\\'s name and current address.\",\"name\":\"Proof of residency\",\"level\":0,\"id\":\"proof_residency\",\"group_id\":\"1\",\"content_type\":\"visa\",\"component_type\":\"text\"},{\"value\":\"A copy of complete round trip tickets or a letter signed by a travel agent.\\\\nIf you will be entering and/or exiting Brazil by LAND please submit:\\\\nTicketed flight itinerary showing flights into and out of the region.\\\\nA letter addressed to the \\\\\"Consulate of Brazil, Visa Section\\\\\" explaining exactly how, when, and where you will be entering and leaving Brazil.\\\\nA copy of your most recent monthly bank statement.\\\\nIf you will be entering and/or exiting Brazil by SEA please submit:\\\\nOfficial receipt or boarding pass from the Cruise line listing the applicant as a passenger and showing that the balance has been paid in full.\\\\nOfficial daily port itinerary from the cruise line listing the applicant as a passenger and showing the port location for each day of the cruise.\",\"name\":\"Itinerary\",\"level\":0,\"id\":\"itinerary\",\"group_id\":\"1\",\"content_type\":\"visa\",\"component_type\":\"text\"},{\"value\":\"A copy of the applicant\\'s last 3 monthly bank statements showing proof of sufficient funds. The statement must clearly show the applicant\\'s name as the account holder, the balance of the account, and the date of the statement.\",\"name\":\"Bank statement\",\"level\":0,\"id\":\"bank_stat_monthly\",\"group_id\":\"1\",\"content_type\":\"visa\",\"component_type\":\"text\"},{\"value\":\"A copy of hotel reservations or other lodgings for the duration of the trip. The applicant\\'s name must be on the reservation. If staying with friends or family, a signed letter of invitation from the host in the destination country. The letter should be addressed to the Embassy of the destination country, Visa Section and should state the relationship to the applicant, the dates of the visit, and the address and phone number where you will be staying. Please provide a copy of the inviting party\\'s ID. \",\"name\":\"Proof of accommodation\",\"level\":0,\"id\":\"proof_accom_copy_id\",\"group_id\":\"1\",\"content_type\":\"visa\",\"component_type\":\"text\"},{\"value\":\"Hard copy required. A business letter from the sending company in the US. The letter should be printed on company letterhead stationery, addressed to \\\\\"The Consulate of Brazil\\\\\", and signed by a senior manager (The original signature must be on the letter). The business letter must adhere to the following guidelines:\\\\n• Briefly introduce the applicant (please specify employment status/position held in the company by applicant).\\\\n• State the nature of the business to be conducted (ie. business meetings, contract negotiations, etc.) and the names and addresses of companies to be contacted in Brazil.\\\\n• State the expected duration of the visit and the periodicity of any future trips.\\\\n• Guarantee of sufficient funds for travel.\\\\n• State that the goal of the visa applicant\\'s trip to Brazil is strictly for business meetings not involving any technical assistance or training.\\\\n\\\\nFurthermore, the sending company shall specifically attest to each of the following statements:\\\\n• The visa applicant will maintain his or her residency in the United States.\\\\n• The visa applicant\\'s trip to Brazil is of a short-term nature.\\\\n• The visa applicant has no intention to immigrate to Brazil and will not exceed the legally authorized stay per visit.\\\\n\\\\nAdditionally, visa applicants will need to submit a letter on company letterhead from their U.S. company explaining the purpose of their trip and providing a financial guarantee. The letter must bear an original pen-to-paper signature of a company representative other than the applicant, and must state the purpose of the trip as crew members and list the dates of travel. Included in this letter must be the phrase “No technical assistance will be provided.”\",\"name\":\"Business Support Letter\",\"level\":0,\"id\":\"bus_support_letter_burkinafaso\",\"group_id\":\"1\",\"content_type\":\"visa\",\"component_type\":\"text\"},{\"value\":\"Soft copy acceptable. A business invitation letter from the sponsoring company in Brazil written in Portuguese. The letter should be printed on company letterhead stationery, addressed to \\\\\"The Consulate of Brazil\\\\\", and signed by a senior manager. The letter should state:\\\\n• The job description and job position of the contact person in Brazil.\\\\n• A description of the intended activities of the applicant in Brazil (sales, purchases, coordination, auditing, etc).\\\\nNot required for Flight Crew personnel.\",\"name\":\"Invitation Letter\",\"level\":0,\"id\":\"invitation_letter\",\"group_id\":\"1\",\"content_type\":\"visa\",\"component_type\":\"text\"},{\"value\":\"Original birth certificate (showing full names of applicant\\'s mother and father) translated into English or Portuguese with the appropriate Certification by Translator.\",\"name\":\"Birth certificate\",\"level\":0,\"id\":\"birth_certificate\",\"group_id\":\"1\",\"content_type\":\"visa\",\"component_type\":\"text\"},{\"value\":\"A letter from your employer stating your current employment status.\",\"name\":\"Proof of Employment\",\"level\":0,\"id\":\"proof_employment\",\"group_id\":\"1\",\"content_type\":\"visa\",\"component_type\":\"text\"}]}},{\"keys\":{\"citizenship\":\"AU\",\"destination\":\"BR\",\"jurisdiction\":\"1\",\"residency\":\"US\",\"visa_group\":\"449\"},\"entityKeys\":{\"citizenship\":{\"alpha2\":\"AU\",\"alpha3\":\"AUS\",\"numeric\":\"036\",\"label\":\"Australia\"},\"destination\":{\"alpha2\":\"BR\",\"alpha3\":\"BRA\",\"numeric\":\"076\",\"label\":\"Brazil\"},\"jurisdiction\":{\"id\":1,\"residency\":\"US\",\"label\":\"United States of America default jurisdiction\",\"provinces\":[\"WY\",\"WI\",\"WV\",\"WA\",\"VA\",\"VI\",\"VT\",\"UT\",\"TX\",\"TN\",\"SD\",\"SC\",\"RI\",\"PR\",\"PA\",\"PW\",\"OR\",\"OK\",\"OH\",\"MP\",\"ND\",\"NC\",\"NY\",\"NM\",\"NJ\",\"NH\",\"NV\",\"NE\",\"MT\",\"MO\",\"MS\",\"MN\",\"MI\",\"MA\",\"MD\",\"MH\",\"ME\",\"LA\",\"KY\",\"KS\",\"IA\",\"IN\",\"IL\",\"ID\",\"HI\",\"GU\",\"GA\",\"FL\",\"FM\",\"DC\",\"DE\",\"CT\",\"CO\",\"CS\",\"CN\",\"CA\",\"AR\",\"AZ\",\"AK\",\"AL\"]},\"residency\":{\"alpha2\":\"US\",\"alpha3\":\"USA\",\"numeric\":\"840\",\"label\":\"United States of America\"},\"visa_group\":{\"id\":449,\"label\":\"Missionary visa\",\"description\":\"up to 1 year\"}},\"content\":{\"groups\":[{\"child_groups\":[],\"level\":0,\"name\":\"Requirements\",\"id\":\"1\",\"content_type\":\"visa\"}],\"components\":[{\"value\":\"\\\\u003cstrong\\\\u003eImportant Note:\\\\u003c/strong\\\\u003e Please upload or send us electronically the following documents needed for the generation of your application form: \\\\n\\\\n• Scanned copy of passport\\\\n\\\\n\\\\u003cstrong\\\\u003eDo not mail anything to VisaHQ without the generated application form.\\\\u003c/strong\\\\u003e\\\\n\\\\nOnce application form has been generated, please also note that ALL PAGES of your application require your original signature. Each page of your application must be printed SINGLE-SIDED only. Applications printed/signed double-sided will be rejected.\",\"name\":\"Visa application form\",\"level\":0,\"id\":\"visa_application_form\",\"group_id\":\"1\",\"content_type\":\"visa\",\"component_type\":\"text\"},{\"value\":\"The passport must be valid at least 6 months after the intended date of departure from the territory of the destination country and has at least 2 blank visa pages.\",\"name\":\"Original passport\",\"level\":0,\"id\":\"original_passport\",\"group_id\":\"1\",\"content_type\":\"visa\",\"component_type\":\"text\"},{\"value\":\"Include a passport style photo, with a white background, taken within the last 6 months. You may also choose to upload a photo to your order for us to print. There is a charge associated with this service.\",\"name\":\"Passport-type photograph\",\"level\":0,\"id\":\"passport_photo_paper\",\"group_id\":\"1\",\"content_type\":\"visa\",\"component_type\":\"text\"},{\"value\":\"A copy of immigration status in the country of residence such as a resident card, work, or study permit. VisaHQ cannot assist US B1/B2 visa holders at this time.\",\"name\":\"Proof of status\",\"level\":0,\"id\":\"proof_status\",\"group_id\":\"1\",\"content_type\":\"visa\",\"component_type\":\"text\"},{\"value\":\"Copy of driver\\'s license, state issued ID, or major utility bill (Water, Gas, Electric, Sewage) for the most recent month, showing the applicant\\'s name and current address.\",\"name\":\"Proof of residency\",\"level\":0,\"id\":\"proof_residency\",\"group_id\":\"1\",\"content_type\":\"visa\",\"component_type\":\"text\"},{\"value\":\"A copy of complete round trip tickets or a letter signed by a travel agent.\\\\n\",\"name\":\"Itinerary\",\"level\":0,\"id\":\"itinerary\",\"group_id\":\"1\",\"content_type\":\"visa\",\"component_type\":\"text\"},{\"value\":\"A copy of the applicant\\'s last 3 monthly bank statements showing proof of sufficient funds. The statement must clearly show the applicant\\'s name as the account holder, the balance of the account, and the date of the statement.\",\"name\":\"Bank statement\",\"level\":0,\"id\":\"bank_stat_monthly\",\"group_id\":\"1\",\"content_type\":\"visa\",\"component_type\":\"text\"},{\"value\":\"A copy of hotel reservations or other lodgings for the duration of the trip. The applicant\\'s name must be on the reservation. If staying with friends or family, a signed letter of invitation from the host in the destination country. The letter should be addressed to the Embassy of the destination country, Visa Section and should state the relationship to the applicant, the dates of the visit, and the address and phone number where you will be staying. Please provide a copy of the inviting party\\'s ID. \",\"name\":\"Proof of accommodation\",\"level\":0,\"id\":\"proof_accom_copy_id\",\"group_id\":\"1\",\"content_type\":\"visa\",\"component_type\":\"text\"},{\"value\":\"A copy of the applicant\\'s current resume.\",\"name\":\"Resume\",\"level\":0,\"id\":\"resume\",\"group_id\":\"1\",\"content_type\":\"visa\",\"component_type\":\"text\"},{\"value\":\"Original document issued by the FBI within the past 60 days containing sufficient info on the applicant (full name, address, date of birth, SSN, ID type, etc.) and showing a non-criminal record.\",\"name\":\"Background Check\",\"level\":0,\"id\":\"background_check\",\"group_id\":\"1\",\"content_type\":\"visa\",\"component_type\":\"text\"},{\"value\":\"Original police report or Certificate of Good Conduct from the applicant\\'s local police station.\",\"name\":\"Police report\",\"level\":0,\"id\":\"police_report\",\"group_id\":\"1\",\"content_type\":\"visa\",\"component_type\":\"text\"},{\"value\":\"A copy of birth certificate or any other official document that shows the applicant\\'s parents’ full names. This same document will be needed later in Brazil at the moment the applicant completes their registration at Brazilian Federal Police Department(required within 30 days of arrival).\",\"name\":\"Birth certificate\",\"level\":0,\"id\":\"birth_certificate\",\"group_id\":\"1\",\"content_type\":\"visa\",\"component_type\":\"text\"},{\"value\":\"A legal authorization from Headquarters of the Religious Institution abroad, conferring powers to its representative in Brazil to accept the conditions under which said Institution will be allowed to function in the country.\",\"name\":\"Authorization Letter\",\"level\":0,\"id\":\"authorization_letter_pk\",\"group_id\":\"1\",\"content_type\":\"visa\",\"component_type\":\"text\"},{\"value\":\"Notarized copy of applicant’s ordination certificate and/or diploma and school transcript for theological studies.\",\"name\":\"Ordination certificate\",\"level\":0,\"id\":\"ordination_certificate\",\"group_id\":\"1\",\"content_type\":\"visa\",\"component_type\":\"text\"},{\"value\":\"Drawn at a \\\\\"Cartório\\\\\" by the religious or missionary organization in Brazil, guaranteeing the maintenance of the applicant and his/her family in Brazil and their repatriation at term.\",\"name\":\"Letter of guarantee\",\"level\":0,\"id\":\"letter_guarantee\",\"group_id\":\"1\",\"content_type\":\"visa\",\"component_type\":\"text\"},{\"value\":\"Charter and bylaws of the religious or missionary organization in Brazil;\\\\nMinutes of Constitutions. A certified copy of the minutes of the Board of Directors General Assembly (Ata de Constituição) that created the institution and authorized its operations in Brazil;\\\\nStatement of commitment. Signed statement of commitment that the applicant will not engage in any activity in Indian areas without the proper authorization by FUNAI - National Indian Foundation (notarized document plus one copy);\\\\nDocuments of Immediate Family Members. Marriage certificate, birth certificate, or other official dependency document for spouse/ children/dependents and other immediate family members, as applicable. This document must be legalized by the Consulate or Embassy of Brazil.\",\"name\":\"Additional documents\",\"level\":0,\"id\":\"additional_documents\",\"group_id\":\"1\",\"content_type\":\"visa\",\"component_type\":\"text\"},{\"value\":\"A letter from your employer stating your current employment status.\",\"name\":\"Proof of Employment\",\"level\":0,\"id\":\"proof_employment\",\"group_id\":\"1\",\"content_type\":\"visa\",\"component_type\":\"text\"}]}},{\"keys\":{\"citizenship\":\"AU\",\"destination\":\"BR\",\"jurisdiction\":\"1\",\"residency\":\"US\",\"visa_group\":\"450\"},\"entityKeys\":{\"citizenship\":{\"alpha2\":\"AU\",\"alpha3\":\"AUS\",\"numeric\":\"036\",\"label\":\"Australia\"},\"destination\":{\"alpha2\":\"BR\",\"alpha3\":\"BRA\",\"numeric\":\"076\",\"label\":\"Brazil\"},\"jurisdiction\":{\"id\":1,\"residency\":\"US\",\"label\":\"United States of America default jurisdiction\",\"provinces\":[\"WY\",\"WI\",\"WV\",\"WA\",\"VA\",\"VI\",\"VT\",\"UT\",\"TX\",\"TN\",\"SD\",\"SC\",\"RI\",\"PR\",\"PA\",\"PW\",\"OR\",\"OK\",\"OH\",\"MP\",\"ND\",\"NC\",\"NY\",\"NM\",\"NJ\",\"NH\",\"NV\",\"NE\",\"MT\",\"MO\",\"MS\",\"MN\",\"MI\",\"MA\",\"MD\",\"MH\",\"ME\",\"LA\",\"KY\",\"KS\",\"IA\",\"IN\",\"IL\",\"ID\",\"HI\",\"GU\",\"GA\",\"FL\",\"FM\",\"DC\",\"DE\",\"CT\",\"CO\",\"CS\",\"CN\",\"CA\",\"AR\",\"AZ\",\"AK\",\"AL\"]},\"residency\":{\"alpha2\":\"US\",\"alpha3\":\"USA\",\"numeric\":\"840\",\"label\":\"United States of America\"},\"visa_group\":{\"id\":450,\"label\":\"Courtesy Visa\",\"description\":\"up to 90 days\"}},\"content\":{\"groups\":[{\"child_groups\":[],\"level\":0,\"name\":\"Requirements\",\"id\":\"1\",\"content_type\":\"visa\"}],\"components\":[{\"value\":\"\\\\u003cstrong\\\\u003eImportant Note:\\\\u003c/strong\\\\u003e Please upload or send us electronically the following documents needed for the generation of your application form: \\\\n\\\\n• Scanned copy of passport\\\\n\\\\n\\\\u003cstrong\\\\u003eDo not mail anything to VisaHQ without the generated application form.\\\\u003c/strong\\\\u003e\\\\n\\\\nOnce application form has been generated, please also note that ALL PAGES of your application require your original signature. Each page of your application must be printed SINGLE-SIDED only. Applications printed/signed double-sided will be rejected.\",\"name\":\"Visa application form\",\"level\":0,\"id\":\"visa_application_form\",\"group_id\":\"1\",\"content_type\":\"visa\",\"component_type\":\"text\"},{\"value\":\"The passport must be valid at least 6 months after the intended date of departure from the territory of the destination country and has at least 2 blank visa pages.\\\\n\",\"name\":\"Original passport\",\"level\":0,\"id\":\"original_passport\",\"group_id\":\"1\",\"content_type\":\"visa\",\"component_type\":\"text\"},{\"value\":\"Include a passport style photo, with a white background, taken within the last 6 months. You may also choose to upload a photo to your order for us to print. There is a charge associated with this service.\",\"name\":\"Passport-type photograph\",\"level\":0,\"id\":\"passport_photo_paper\",\"group_id\":\"1\",\"content_type\":\"visa\",\"component_type\":\"text\"},{\"value\":\"A copy of immigration status in the country of residence such as a resident card, work, or study permit. VisaHQ cannot assist US B1/B2 visa holders at this time.\",\"name\":\"Proof of status\",\"level\":0,\"id\":\"proof_status\",\"group_id\":\"1\",\"content_type\":\"visa\",\"component_type\":\"text\"},{\"value\":\"A letter from the sending organization, containing the following information in order\\\\n• Full name (first/middle/last).\\\\n• Passport Number.\\\\n• Official title.\\\\n• Name of Government Department/Agency/Organization.\\\\n• Point of contact in the United States.\\\\n• Date of departure from the United States.\\\\n• Date of arrival in Brazil.\\\\n• City of arrival in Brazil.\\\\n• Cities to be visited.\\\\n• Duration of stay in Brazil.\\\\n• A detailed explanation of the purpose of the trip.\\\\n• Point of contact in Brazil and contact information.\",\"name\":\"Business Support Letter\",\"level\":0,\"id\":\"bus_support_letter_africa\",\"group_id\":\"1\",\"content_type\":\"visa\",\"component_type\":\"text\"},{\"value\":\"A copy of the applicant\\'s most recent monthly bank statement showing proof of sufficient funds. The statement must clearly show the applicant\\'s name as the account holder, the balances of the accounts, and the date of the statement.\",\"name\":\"Bank statement\",\"level\":0,\"id\":\"bank_statement\",\"group_id\":\"1\",\"content_type\":\"visa\",\"component_type\":\"text\"},{\"value\":\"Stating applicant\\'s occupation, name and address of employer, etc.\",\"name\":\"Proof of Employment\",\"level\":0,\"id\":\"proof_employment_algeria\",\"group_id\":\"1\",\"content_type\":\"visa\",\"component_type\":\"text\"},{\"value\":\"Original birth certificate (showing full name of applicant\\'s mother and father) translated into English or Portuguese with the appropriate Certification by Translator.\",\"name\":\"Birth certificate\",\"level\":0,\"id\":\"birth_certificate\",\"group_id\":\"1\",\"content_type\":\"visa\",\"component_type\":\"text\"},{\"value\":\" Hotel/Lodging reservation and/or information or contact(s) in Brazil (name, address in Brazil, etc.).\",\"name\":\"Proof of residency\",\"level\":0,\"id\":\"proof_residency\",\"group_id\":\"1\",\"content_type\":\"visa\",\"component_type\":\"text\"},{\"value\":\"A copy of round trip tickets or detailed itinerary for the duration of the trip. The applicant\\'s name must be on itinerary.\",\"name\":\"Itinerary\",\"level\":0,\"id\":\"itinerary\",\"group_id\":\"1\",\"content_type\":\"visa\",\"component_type\":\"text\"}]}},{\"keys\":{\"citizenship\":\"AU\",\"destination\":\"BR\",\"jurisdiction\":\"1\",\"residency\":\"US\",\"visa_group\":\"452\"},\"entityKeys\":{\"citizenship\":{\"alpha2\":\"AU\",\"alpha3\":\"AUS\",\"numeric\":\"036\",\"label\":\"Australia\"},\"destination\":{\"alpha2\":\"BR\",\"alpha3\":\"BRA\",\"numeric\":\"076\",\"label\":\"Brazil\"},\"jurisdiction\":{\"id\":1,\"residency\":\"US\",\"label\":\"United States of America default jurisdiction\",\"provinces\":[\"WY\",\"WI\",\"WV\",\"WA\",\"VA\",\"VI\",\"VT\",\"UT\",\"TX\",\"TN\",\"SD\",\"SC\",\"RI\",\"PR\",\"PA\",\"PW\",\"OR\",\"OK\",\"OH\",\"MP\",\"ND\",\"NC\",\"NY\",\"NM\",\"NJ\",\"NH\",\"NV\",\"NE\",\"MT\",\"MO\",\"MS\",\"MN\",\"MI\",\"MA\",\"MD\",\"MH\",\"ME\",\"LA\",\"KY\",\"KS\",\"IA\",\"IN\",\"IL\",\"ID\",\"HI\",\"GU\",\"GA\",\"FL\",\"FM\",\"DC\",\"DE\",\"CT\",\"CO\",\"CS\",\"CN\",\"CA\",\"AR\",\"AZ\",\"AK\",\"AL\"]},\"residency\":{\"alpha2\":\"US\",\"alpha3\":\"USA\",\"numeric\":\"840\",\"label\":\"United States of America\"},\"visa_group\":{\"id\":452,\"label\":\"Artist or Athlete visa\",\"description\":\"up to 90 days\"}},\"content\":{\"groups\":[{\"child_groups\":[],\"level\":0,\"name\":\"Requirements\",\"id\":\"1\",\"content_type\":\"visa\"}],\"components\":[{\"value\":\"\\\\u003cstrong\\\\u003eImportant Note:\\\\u003c/strong\\\\u003e Please upload or send us electronically the following documents needed for the generation of your application form: \\\\n\\\\n• Scanned copy of passport\\\\n\\\\n\\\\u003cstrong\\\\u003eDo not mail anything to VisaHQ without the generated application form.\\\\u003c/strong\\\\u003e\\\\n\\\\nOnce application form has been generated, please also note that ALL PAGES of your application require your original signature. Each page of your application must be printed SINGLE-SIDED only. Applications printed/signed double-sided will be rejected.\",\"name\":\"Visa application form\",\"level\":0,\"id\":\"visa_application_form\",\"group_id\":\"1\",\"content_type\":\"visa\",\"component_type\":\"text\"},{\"value\":\"The passport must be valid at least 6 months after the intended date of departure from the territory of the destination country and has at least 2 blank visa pages.\",\"name\":\"Original passport\",\"level\":0,\"id\":\"original_passport\",\"group_id\":\"1\",\"content_type\":\"visa\",\"component_type\":\"text\"},{\"value\":\"Include a passport style photo, with a white background, taken within the last 6 months. You may also choose to upload a photo to your order for us to print. There is a charge associated with this service.\",\"name\":\"Passport-type photograph\",\"level\":0,\"id\":\"passport_photo_paper\",\"group_id\":\"1\",\"content_type\":\"visa\",\"component_type\":\"text\"},{\"value\":\"All passengers traveling to complete Health declaration form within the 72 hours prior to the flight. The proof of the filled out form will need to be presented at control points.\",\"name\":\"Health declaration E-form (questions to this form are included at the end of visa questionnaire)\",\"level\":0,\"id\":\"covid_health\",\"group_id\":\"1\",\"content_type\":\"visa\",\"component_type\":\"text\"},{\"value\":\"A copy of immigration status in the country of residence such as a resident card, work, or study permit. VisaHQ cannot assist US B1/B2 visa holders at this time.\",\"name\":\"Proof of status\",\"level\":0,\"id\":\"proof_status\",\"group_id\":\"1\",\"content_type\":\"visa\",\"component_type\":\"text\"},{\"value\":\"Original birth certificate (showing full names of applicant\\'s mother and farther) translated into English or Portuguese with the appropriate Certification by Translator.\",\"name\":\"Birth certificate\",\"level\":0,\"id\":\"translated_birth_certificate\",\"group_id\":\"1\",\"content_type\":\"visa\",\"component_type\":\"text\"},{\"value\":\"Must be issued within the last 3 months (request may be submitted to an FBI-approved Channeler).\",\"name\":\"Background Check\",\"level\":0,\"id\":\"background_check\",\"group_id\":\"1\",\"content_type\":\"visa\",\"component_type\":\"text\"}]}},{\"keys\":{\"citizenship\":\"AU\",\"destination\":\"BR\",\"jurisdiction\":\"1\",\"residency\":\"US\",\"visa_group\":\"477\"},\"entityKeys\":{\"citizenship\":{\"alpha2\":\"AU\",\"alpha3\":\"AUS\",\"numeric\":\"036\",\"label\":\"Australia\"},\"destination\":{\"alpha2\":\"BR\",\"alpha3\":\"BRA\",\"numeric\":\"076\",\"label\":\"Brazil\"},\"jurisdiction\":{\"id\":1,\"residency\":\"US\",\"label\":\"United States of America default jurisdiction\",\"provinces\":[\"WY\",\"WI\",\"WV\",\"WA\",\"VA\",\"VI\",\"VT\",\"UT\",\"TX\",\"TN\",\"SD\",\"SC\",\"RI\",\"PR\",\"PA\",\"PW\",\"OR\",\"OK\",\"OH\",\"MP\",\"ND\",\"NC\",\"NY\",\"NM\",\"NJ\",\"NH\",\"NV\",\"NE\",\"MT\",\"MO\",\"MS\",\"MN\",\"MI\",\"MA\",\"MD\",\"MH\",\"ME\",\"LA\",\"KY\",\"KS\",\"IA\",\"IN\",\"IL\",\"ID\",\"HI\",\"GU\",\"GA\",\"FL\",\"FM\",\"DC\",\"DE\",\"CT\",\"CO\",\"CS\",\"CN\",\"CA\",\"AR\",\"AZ\",\"AK\",\"AL\"]},\"residency\":{\"alpha2\":\"US\",\"alpha3\":\"USA\",\"numeric\":\"840\",\"label\":\"United States of America\"},\"visa_group\":{\"id\":477,\"label\":\"Technical Assistance Visa\",\"description\":\"up to 90 days\"}},\"content\":{\"groups\":[{\"child_groups\":[],\"level\":0,\"name\":\"Requirements\",\"id\":\"1\",\"content_type\":\"visa\"}],\"components\":[{\"value\":\"\\\\u003cstrong\\\\u003eImportant Note:\\\\u003c/strong\\\\u003e Please upload or send us electronically the following documents needed for the generation of your application form: \\\\n\\\\n• Scanned copy of passport\\\\n\\\\n\\\\u003cstrong\\\\u003eDo not mail anything to VisaHQ without the generated application form.\\\\u003c/strong\\\\u003e\\\\n\\\\nOnce application form has been generated, please also note that ALL PAGES of your application require your original signature. Each page of your application must be printed SINGLE-SIDED only. Applications printed/signed double-sided will be rejected.\",\"name\":\"Visa application form\",\"level\":0,\"id\":\"visa_application_form\",\"group_id\":\"1\",\"content_type\":\"visa\",\"component_type\":\"text\"},{\"value\":\"The passport must be valid at least 6 months after the intended date of departure from the territory of the destination country and has at least 2 blank visa pages.\\\\n\",\"name\":\"Original passport\",\"level\":0,\"id\":\"original_passport\",\"group_id\":\"1\",\"content_type\":\"visa\",\"component_type\":\"text\"},{\"value\":\"Passport style photo, with a white background, taken within the last 6 months. \",\"name\":\"Passport-type photograph\",\"level\":0,\"id\":\"passport_photo_paper\",\"group_id\":\"1\",\"content_type\":\"visa\",\"component_type\":\"text\"},{\"value\":\"A copy of immigration status in the country of residence such as a resident card, work, or study permit. VisaHQ cannot assist US B1/B2 visa holders at this time.\",\"name\":\"Proof of status\",\"level\":0,\"id\":\"proof_status\",\"group_id\":\"1\",\"content_type\":\"visa\",\"component_type\":\"text\"},{\"value\":\"Copy of driver\\'s license, state issued ID, or major utility bill (Water, Gas, Electric, Sewage) for the most recent month, showing the applicant\\'s name and current address.\",\"name\":\"Proof of residency\",\"level\":0,\"id\":\"proof_residency\",\"group_id\":\"1\",\"content_type\":\"visa\",\"component_type\":\"text\"},{\"value\":\"A copy of birth certificate or any other official document that shows the applicant\\'s parents’ full names. This same document will be needed later in Brazil at the moment the applicant completes their registration at Brazilian Federal Police Department(required within 30 days of arrival).\",\"name\":\"Birth certificate\",\"level\":0,\"id\":\"birth_certificate\",\"group_id\":\"1\",\"content_type\":\"visa\",\"component_type\":\"text\"},{\"value\":\"Hard copy required. A business letter from the sending company in the US. The letter should be printed on company letterhead stationery, addressed to \\\\\"The Consulate of Brazil\\\\\", and signed by a senior manager (The original signature must be on the letter). The business letter must adhere to the following guidelines:\\\\n• Briefly introduce the applicant (please specify employment status/position held in the company by applicant).\\\\n• State the nature of the business to be conducted (ie. business meetings, contract negotiations, etc.) and the names and addresses of companies to be contacted in Brazil.\\\\n• State the expected duration of the visit and the periodicity of any future trips.\\\\n• Guarantee of sufficient funds for travel.\\\\n• State that the goal of the visa applicant\\'s trip to Brazil is strictly for business meetings not involving any technical assistance or training.\\\\n\\\\nFurthermore, the sending company shall specifically attest to each of the following statements:\\\\n• The visa applicant will maintain his or her residency in the United States.\\\\n• The visa applicant\\'s trip to Brazil is of a short-term nature.\\\\n• The visa applicant has no intention to immigrate to Brazil and will not exceed the legally authorized stay per visit.\",\"name\":\"Business Support Letter\",\"level\":0,\"id\":\"bus_support_letter_africa\",\"group_id\":\"1\",\"content_type\":\"visa\",\"component_type\":\"text\"},{\"value\":\"A business invitation letter from the sponsoring company in destination country. The letter should be printed on company letterhead stationery, addressed to \\\\\"The Consulate of  destination country}, Visa Section\\\\\", and signed by a senior manager. The business letter must adhere to the following guidelines:\\\\n• Briefly introduce the applicant (please specify employment status/position held in the company by applicant).\\\\n• State the nature of the business to be conducted (ie. business meetings, contract negotiations, etc.) and the names and addresses of companies to be contacted in destination country.\\\\n• Specify the type and desired validity of the visa (ie. a one year multiple entry business visa).The invitee should also accepting full immigration responsibilities.\\\\nPlease note that inviter\\'s signature in the invitation letter should be the same as per their passport (not short or different signature).\",\"name\":\"Invitation letter\",\"level\":0,\"id\":\"invitation_letter_nigeria\",\"group_id\":\"1\",\"content_type\":\"visa\",\"component_type\":\"text\"},{\"value\":\"A copy of the host organization\\'s Certificate of Incorporation or business registration in the country of destination.\",\"name\":\"Business registration\",\"level\":0,\"id\":\"business_registration\",\"group_id\":\"1\",\"content_type\":\"visa\",\"component_type\":\"text\"}]}},{\"keys\":{\"citizenship\":\"AU\",\"destination\":\"BR\",\"jurisdiction\":\"1\",\"residency\":\"US\",\"visa_group\":\"922\"},\"entityKeys\":{\"citizenship\":{\"alpha2\":\"AU\",\"alpha3\":\"AUS\",\"numeric\":\"036\",\"label\":\"Australia\"},\"destination\":{\"alpha2\":\"BR\",\"alpha3\":\"BRA\",\"numeric\":\"076\",\"label\":\"Brazil\"},\"jurisdiction\":{\"id\":1,\"residency\":\"US\",\"label\":\"United States of America default jurisdiction\",\"provinces\":[\"WY\",\"WI\",\"WV\",\"WA\",\"VA\",\"VI\",\"VT\",\"UT\",\"TX\",\"TN\",\"SD\",\"SC\",\"RI\",\"PR\",\"PA\",\"PW\",\"OR\",\"OK\",\"OH\",\"MP\",\"ND\",\"NC\",\"NY\",\"NM\",\"NJ\",\"NH\",\"NV\",\"NE\",\"MT\",\"MO\",\"MS\",\"MN\",\"MI\",\"MA\",\"MD\",\"MH\",\"ME\",\"LA\",\"KY\",\"KS\",\"IA\",\"IN\",\"IL\",\"ID\",\"HI\",\"GU\",\"GA\",\"FL\",\"FM\",\"DC\",\"DE\",\"CT\",\"CO\",\"CS\",\"CN\",\"CA\",\"AR\",\"AZ\",\"AK\",\"AL\"]},\"residency\":{\"alpha2\":\"US\",\"alpha3\":\"USA\",\"numeric\":\"840\",\"label\":\"United States of America\"},\"visa_group\":{\"id\":922,\"label\":\"Health Declaration E-Form\"}},\"content\":{\"groups\":[{\"child_groups\":[],\"level\":0,\"name\":\"Requirements\",\"id\":\"1\",\"content_type\":\"visa\"}],\"components\":[{\"value\":\"The form you will fill may be checked at the borders of Brazil whether you have filled in this form or not, and If you haven’t filled in the form or made misleading statements, you may face legal and administrative sanctions. Furthermore, you might not be allowed to enter Brazil.\",\"name\":\"Mandatory form before entering country\",\"level\":0,\"id\":\"turkish\",\"group_id\":\"1\",\"content_type\":\"visa\",\"component_type\":\"text\"}]}}]\\n'"
      ]
     },
     "execution_count": 75,
     "metadata": {},
     "output_type": "execute_result"
    }
   ],
   "source": [
    "res.text"
   ]
  },
  {
   "cell_type": "code",
   "execution_count": null,
   "metadata": {},
   "outputs": [],
   "source": []
  }
 ],
 "metadata": {
  "kernelspec": {
   "display_name": "venv",
   "language": "python",
   "name": "python3"
  },
  "language_info": {
   "codemirror_mode": {
    "name": "ipython",
    "version": 3
   },
   "file_extension": ".py",
   "mimetype": "text/x-python",
   "name": "python",
   "nbconvert_exporter": "python",
   "pygments_lexer": "ipython3",
   "version": "3.8.10"
  },
  "orig_nbformat": 4,
  "vscode": {
   "interpreter": {
    "hash": "40b6a945fb6b6704e0bfd6396052b67429a8ffe4dc243fd4fdc95715e42b47ed"
   }
  }
 },
 "nbformat": 4,
 "nbformat_minor": 2
}
